{
 "cells": [
  {
   "cell_type": "markdown",
   "id": "2fce64a2",
   "metadata": {},
   "source": [
    "# Maximal Margin Classifier using Hinge Loss\n",
    "\n",
    "This notebook contains an implementation of the maximal margin classifier algorithm.\n",
    "In traditional maximal margin classifier, one solves the constrained formulation\n",
    "\n",
    "\\begin{align*}\n",
    "\\min_{\\mathbf{\\beta}} \\quad & \\|\\mathbf{\\beta}\\|^2 \\\\\n",
    "\\text{subject to} \\quad & y(\\mathbf{x}^{(i)})t^{(i)} \\geq 1 \n",
    "\\end{align*}\n",
    "\n",
    "where $y(\\mathbf{x}^{(i)}) = \\mathbf{\\beta}^T\\mathbf{x}^{(i)} + \\beta_0$. We might sometimes want to use a softer unconstrained formulation. A choice would be to use the Hinge loss: \n",
    "\n",
    "\\begin{align*}\n",
    "\\max(0, 1-t^{(i)}y(\\mathbf{x}^{(i)})) = \\max(0, 1-t^{(i)}(\\mathbf{\\beta}^T\\mathbf{x}^{(i)}+\\beta_0))\n",
    "\\end{align*}\n",
    "\n",
    "For such a loss, we can derive a softer, unconstrained version of the problem as \n",
    "\n",
    "\\begin{align*}\n",
    "\\min_{\\mathbf{\\beta}, \\mathbf{\\beta_0}} \\quad & \\|\\mathbf{\\beta}\\|^2 + \\frac{C}{N}\\sum_{i=1}^N \\max(0, 1-t^{(i)}(\\mathbf{\\beta}^T\\mathbf{x}^{(i)}+\\beta_0))\n",
    "\\end{align*}\n",
    "\n",
    "The algorithm is implemented below and illustrated with a toy dataset."
   ]
  },
  {
   "cell_type": "code",
   "execution_count": 1,
   "id": "2084267b",
   "metadata": {},
   "outputs": [
    {
     "data": {
      "image/png": "[encoded data removed]",
      "text/plain": [
       "<Figure size 432x288 with 1 Axes>"
      ]
     },
     "metadata": {
      "needs_background": "light"
     },
     "output_type": "display_data"
    }
   ],
   "source": [
    "import numpy as np\n",
    "import matplotlib.pyplot as plt\n",
    "\n",
    "from scipy.io import loadmat\n",
    "pointsClass1 = loadmat('KernelPointsEx4class1.mat')['PointsEx4class1']\n",
    "pointsClass2 = loadmat('KernelPointsEx4class2.mat')['PointsEx4class2']\n",
    "\n",
    "\n",
    "plt.scatter(pointsClass1[:,0], pointsClass1[:,1], c='r')\n",
    "plt.scatter(pointsClass2[:,0], pointsClass2[:,1], c='b')\n",
    "plt.show()"
   ]
  },
  {
   "cell_type": "code",
   "execution_count": 2,
   "id": "4fe6713b",
   "metadata": {},
   "outputs": [],
   "source": [
    "def HingeLoss(x, t, beta, beta0):\n",
    "    \n",
    "    '''Returns the value and gradient of the hinge loss at the point x'''\n",
    "    '''The subgradient w.r.t. beta_j is -t*x_j if t*(beta.T @ x+beta0)<1 and 0 otherwise'''\n",
    "    beta.reshape(-1,1)\n",
    "    temp = float(1-t*(beta.T @ x.reshape(-1,1) + beta0))\n",
    "    value = np.max([0,temp]) \n",
    "    \n",
    "    gradient = []\n",
    "    if temp >0:\n",
    "        gradient.append(-t) # partial derivative w.r.t. beta0\n",
    "        for j in range(len(x)):\n",
    "            gradient.append(-t*x[j]) # partial derivatives w.r.t. beta\n",
    "    else:\n",
    "        for j in range(len(x)+1):\n",
    "            gradient.append(0)\n",
    "    return value, np.array(gradient)"
   ]
  },
  {
   "cell_type": "code",
   "execution_count": 3,
   "id": "f3291e73",
   "metadata": {},
   "outputs": [],
   "source": [
    "def HingeLossSVC(beta_init, beta0_init, train_set, C):\n",
    "    \n",
    "    '''Returns the maximal margin classifier for the training dataset'''\n",
    "    d = np.shape(train_set)[1]-1 # number of features\n",
    "    X = train_set[:,:d]\n",
    "    t = train_set[:,d]\n",
    "    \n",
    "    N = np.shape(X)[0] # number of data points\n",
    "    MaxIter = 1000\n",
    "    eta = 0.001 # learning rate\n",
    "    beta0 = beta0_init\n",
    "    beta = beta_init\n",
    "    loss = np.zeros(MaxIter)\n",
    "    # compute the gradient of the objective\n",
    "    for k in range(MaxIter):\n",
    "        grad = np.zeros(d+1)\n",
    "        for i in range(N):\n",
    "            loss_new, grad_new = HingeLoss(X[i], t[i], beta.reshape(-1,1), beta0) # get the lost and grad for this point\n",
    "            grad = grad_new + grad\n",
    "            loss[k] = loss[k]+loss_new\n",
    "        grad = C/N * grad  \n",
    "        grad[1:] = grad[1:] + 2*beta.flatten()\n",
    "        # update beta's\n",
    "        beta0 = beta0 - eta* grad[0]\n",
    "        beta = beta - eta* grad[1:]\n",
    "    return beta, beta0, np.array(loss)"
   ]
  },
  {
   "cell_type": "code",
   "execution_count": 4,
   "id": "06f92917",
   "metadata": {},
   "outputs": [],
   "source": [
    "# combine the datapoints into one matrix\n",
    "N1 = np.shape(pointsClass1)[0] # number of points in class1\n",
    "N2 = np.shape(pointsClass2)[0] # number of points in class2\n",
    "data1 = np.hstack((pointsClass1, np.ones((N1,1)))) # label of class1 is 1\n",
    "data2 = np.hstack((pointsClass2, -np.ones((N2,1)))) # label of class2 is -1\n",
    "data  = np.vstack((data1, data2))"
   ]
  },
  {
   "cell_type": "code",
   "execution_count": 5,
   "id": "16afda82",
   "metadata": {},
   "outputs": [
    {
     "name": "stdout",
     "output_type": "stream",
     "text": [
      "beta0, beta =  -0.04514937194049162 [-5.06345932  4.8371229 ]\n"
     ]
    }
   ],
   "source": [
    "beta0 = np.random.normal(0,0.1) # initialize beta0\n",
    "beta = np.random.normal(0,0.1,2) # initialize beta\n",
    "beta, beta0, loss = HingeLossSVC(beta, beta0, data, 500) # compute the optimal parameters\n",
    "print('beta0, beta = ', beta0, beta)"
   ]
  },
  {
   "cell_type": "code",
   "execution_count": 6,
   "id": "bb27caa8",
   "metadata": {},
   "outputs": [
    {
     "data": {
      "image/png": "[encoded data removed]",
      "text/plain": [
       "<Figure size 432x288 with 1 Axes>"
      ]
     },
     "metadata": {
      "needs_background": "light"
     },
     "output_type": "display_data"
    }
   ],
   "source": [
    "# display the decision boundary\n",
    "plt.scatter(pointsClass1[:,0], pointsClass1[:,1], c='r')\n",
    "plt.scatter(pointsClass2[:,0], pointsClass2[:,1], c='b')\n",
    "x = np.linspace(0,1,100)\n",
    "plt.plot(x, -(beta0+beta[0]*x)/beta[1]) # plot the decision boundary\n",
    "plt.show()"
   ]
  },
  {
   "cell_type": "code",
   "execution_count": 7,
   "id": "afb5f686",
   "metadata": {},
   "outputs": [
    {
     "data": {
      "text/plain": [
       "[<matplotlib.lines.Line2D at 0x27bfeb8e790>]"
      ]
     },
     "execution_count": 7,
     "metadata": {},
     "output_type": "execute_result"
    },
    {
     "data": {
      "image/png": "[encoded data removed]",
      "text/plain": [
       "<Figure size 432x288 with 1 Axes>"
      ]
     },
     "metadata": {
      "needs_background": "light"
     },
     "output_type": "display_data"
    }
   ],
   "source": [
    "plt.plot(loss)"
   ]
  }
 ],
 "metadata": {
  "kernelspec": {
   "display_name": "Python 3",
   "language": "python",
   "name": "python3"
  },
  "language_info": {
   "codemirror_mode": {
    "name": "ipython",
    "version": 3
   },
   "file_extension": ".py",
   "mimetype": "text/x-python",
   "name": "python",
   "nbconvert_exporter": "python",
   "pygments_lexer": "ipython3",
   "version": "3.8.8"
  }
 },
 "nbformat": 4,
 "nbformat_minor": 5
}
