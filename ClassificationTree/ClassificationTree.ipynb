{
 "cells": [
  {
   "cell_type": "markdown",
   "id": "fb312eea",
   "metadata": {},
   "source": [
    "# Classification and Regression Trees (CART)\n",
    "\n",
    "Decision tree can be used to build classification and regression algorithms, known as classification trees and decision trees. Decision tree themselves are not desirable as their decision boundaries don't have additive structures and the \"sweet spot\" of the model complexity is hard to find. However, if combined with ensemble methods such as bagging or boosting, decision tree learning can be very powerful."
   ]
  },
  {
   "cell_type": "markdown",
   "id": "b7087a7e",
   "metadata": {},
   "source": [
    "The idea behind CART is to partition the feature space so that in the end each region (leaf node) contain data points as pure as possible, i.e. only data points with one label. If the depth of tree is large enough, a tree-based classifier can separate any dataset, though at the risk of overfitting. We start with a dataset $D=\\left\\{(\\mathbf{x}^{(i)}, t^{(i)})\\right\\}_{i=1, \\ldots, N}$, where $\\mathbf{x}^{(i)} = (x^{(i)}_1, ... , x^{(i)}_d)\\in \\mathbb{R}^d$ is the feature and $t^{(i)}\\in\\{1,...,K\\}$ is the class label. We start with all the data in a single class. We then consider a split point $(j,s)$ such that it defines the two regions $R_1(j,s) = \\left\\{x|x_j\\leq s\\right\\}$ and $R_2(j,s) = \\left\\{x|x_j\\geq s\\right\\}$. We denote the data points in $D_k:=\\{(x,t)\\in D\\mid t=k\\}$ by $S_k$. The split coordinate $s$ should be some midpoint of two data points along the $j$-th direction. At each step, the optimal split is chosen such that the \"impurity\" of each class is minimized. Two commonly used measures are the Gini impurity and entropy.\n",
    "\n",
    "For a dataset $D$ let $p_k:=\\frac{|D_k|}{|D|}$ $(k=1,...,K)$. The Gini impurity of $D$ is defined by $$G(D):=\\sum_{k=1}^K p_k(1-p_k),$$ which is concave and (by Lagrange multiplier) attains it max at $p_1=\\cdots=p_K=\\frac{1}{K}$. At each split the objective is \n",
    "\n",
    "$$ \\min_{j,s} \\frac{|S_1|}{|D|} G(S_1)+\\frac{|S_2|}{|D|} G(S_2),$$\n",
    "\n",
    "namely, the weighted average of the Gini impurity of the two subregions. A more popular approach is to use the entropy. Specifically, we want our the probability distribution $P: p_1,...,p_K$ (on the sample space $\\{1,...,K\\}$) to be as dissimilar as the distribution $Q: q_1=\\cdots=q_K=\\frac{1}{K}$ as possible, so we need to maximize the KL-divergence\n",
    "$$KL(P||Q)=\\sum_{k=1}^K p_k\\log\\frac{p_k}{q_k} =\\sum_{k=1}^K p_k\\log p_k + \\log K.$$\n",
    "\n",
    "Define $H(D)=-\\sum_{k=1}^K p_k\\log p_k$. Then at each step the optimization problem is\n",
    "\n",
    "$$ \\min_{j,s} \\frac{|S_1|}{|D|} H(S_1)+\\frac{|S_2|}{|D|} H(S_2),$$\n",
    "\n",
    "\n",
    "We recursively split the regions until no misclassification occurs in each leaf. Possible regularization approaches include limiting the maximum number of nodes, the maximum depth, the minimum leaf size, or pruning.\n",
    "\n",
    "For classification problem we can use the square loss: at each split we solve\n",
    "\n",
    "$$\\begin{align}\n",
    "\\min_{j, s} \\left[\\min_{c_1} \\sum_{\\mathbf{x}^{(i)}\\in R_1(j, s)} (t^{(i)} - c_1)^2 + \\min_{c_2} \\sum_{\\mathbf{x}^{(i)}\\in R_2(j, s)} (t^{(i)} - c_2)^2\\right]\n",
    "\\end{align},$$\n",
    "\n",
    "for which the inner minimization is solved by \n",
    "\n",
    "$$ \\hat{c}_1 = \\text{average}(t^{(i)}|\\mathbf{x}_i \\in R_1(j, s)) \\hspace{10pt}\\text{ and }\\hspace{10pt}\\hat{c}_2 = \\text{average}(t^{(i)}|\\mathbf{x}_i \\in R_2(j, s))$$"
   ]
  },
  {
   "cell_type": "markdown",
   "id": "66ad1359",
   "metadata": {},
   "source": [
    "Now we consider the folloing dataset:"
   ]
  },
  {
   "cell_type": "code",
   "execution_count": 3,
   "id": "fbd8c81e",
   "metadata": {
    "scrolled": true
   },
   "outputs": [
    {
     "data": {
      "image/png": "[encoded data removed]",
      "text/plain": [
       "<Figure size 432x288 with 1 Axes>"
      ]
     },
     "metadata": {
      "needs_background": "light"
     },
     "output_type": "display_data"
    }
   ],
   "source": [
    "import matplotlib.pyplot as plt\n",
    "import numpy as np\n",
    "import scipy.io\n",
    "from collections import Counter\n",
    "\n",
    "# load data\n",
    "class1 = scipy.io.loadmat('class1.mat')['class1']\n",
    "class2 = scipy.io.loadmat('class2.mat')['class2']\n",
    "class3 = scipy.io.loadmat('class3.mat')['class3']\n",
    "class4 = scipy.io.loadmat('class4.mat')['class4']\n",
    "\n",
    "# this is the original data\n",
    "plt.scatter(class1[:,0], class1[:,1])\n",
    "plt.scatter(class2[:,0], class2[:,1])\n",
    "plt.scatter(class3[:,0], class3[:,1])\n",
    "plt.scatter(class4[:,0], class4[:,1])\n",
    "plt.show()"
   ]
  },
  {
   "cell_type": "code",
   "execution_count": 4,
   "id": "5cf4d5fc",
   "metadata": {},
   "outputs": [],
   "source": [
    "# define the target variables\n",
    "t_class1 = 1 * np.ones((np.shape(class1)[0], 1))\n",
    "t_class2 = 2 * np.ones((np.shape(class2)[0], 1))\n",
    "t_class3 = 3 * np.ones((np.shape(class3)[0], 1))\n",
    "t_class4 = 4 * np.ones((np.shape(class4)[0], 1))\n",
    "\n",
    "# stack the labels and the targets\n",
    "x = np.vstack((class1, class2, class3, class4))\n",
    "t = np.vstack((t_class1, t_class2, t_class3, t_class4))\n",
    "data = np.hstack((x,t))"
   ]
  },
  {
   "cell_type": "markdown",
   "id": "0a5bbbec",
   "metadata": {},
   "source": [
    "First of all, we define functions that compute the two type of impurity measures."
   ]
  },
  {
   "cell_type": "code",
   "execution_count": 5,
   "id": "b56bd5f2",
   "metadata": {},
   "outputs": [],
   "source": [
    "def gini(t, num_class):\n",
    "    '''This function compute the gini impurity for a dataset with t being its categorical label vector'''\n",
    "    gini = 0\n",
    "    for k in range(num_class):\n",
    "        p_k = np.sum(t==(k+1)) / len(t) # our class starts from 1\n",
    "        gini = gini + p_k*(1-p_k)\n",
    "    return gini"
   ]
  },
  {
   "cell_type": "code",
   "execution_count": 6,
   "id": "118e9021",
   "metadata": {},
   "outputs": [],
   "source": [
    "def entropy(t, num_class):\n",
    "    '''This function compute the entropy for a dataset with t being its categorical label vector'''\n",
    "    entropy = 0\n",
    "    for k in range(num_class):\n",
    "        p_k = np.sum(t==(k+1)) / len(t) # our class starts from 1\n",
    "        if p_k==0:\n",
    "            pass\n",
    "        else:\n",
    "            entropy = entropy - p_k * np.log2(p_k)\n",
    "    return entropy"
   ]
  },
  {
   "cell_type": "markdown",
   "id": "33fa7f0d",
   "metadata": {},
   "source": [
    "Now define the loss of a split:"
   ]
  },
  {
   "cell_type": "code",
   "execution_count": 7,
   "id": "d7f519fb",
   "metadata": {},
   "outputs": [],
   "source": [
    "def impurity(x, target, num_class, type):\n",
    "    '''\n",
    "    This function takes in feature vectors x, the corresponding categorical target t, and the type of impurity measure being used\n",
    "    (either 'gini', 'entropy' or 'square') and it returns the minimum split loss of the dataset and an array recording the loss associated \n",
    "    with each data point as the split point\n",
    "    '''\n",
    "    num_points = np.size(target) # number of data points\n",
    "    loss = np.zeros((2,num_points)) # placeholder for the losses for each pair (j,s)\n",
    "    for j in range(np.shape(x)[1]): # for each direction\n",
    "        for s in range(num_points):\n",
    "            r1_ind = (x <= x[s][j])[:,j] # compute the indices for the first region R1\n",
    "            r2_ind = np.logical_not(r1_ind) # compute the indices for the second region R2\n",
    "            t1 = target[r1_ind] # labels from the first class\n",
    "            t2 = target[r2_ind] # labels from the second class\n",
    "            \n",
    "            if type=='gini':\n",
    "                if len(t1)!=0 and len(t2)!=0:\n",
    "                    loss[j][s] = ( np.size(t1)*gini(t1, num_class) + np.size(t2)*gini(t2, num_class) ) / num_points\n",
    "                elif len(t1)!=0 and len(t2)==0:\n",
    "                    loss[j][s] = gini(t1, num_class)\n",
    "                elif len(t1)==0 and len(t2)!=0:\n",
    "                    loss[j][s] = gini(t2, num_class)\n",
    "                else:\n",
    "                    loss[j][k]=0\n",
    "            elif type=='entropy':\n",
    "                if len(t1)!=0 and len(t2)!=0:\n",
    "                    loss[j][s] = ( np.size(t1)*entropy(t1, num_class) + np.size(t2)*entropy(t2, num_class) ) / num_points\n",
    "                elif len(t1)!=0 and len(t2)==0:\n",
    "                    loss[j][s] = entropy(t1, num_class)\n",
    "                elif len(t1)==0 and len(t2)!=0:\n",
    "                    loss[j][s] = entropy(t2, num_class)\n",
    "                else:\n",
    "                    loss[j][k]=0\n",
    "            elif type=='square':\n",
    "                c1 = np.mean(t1) # compute c1_hat for the first inner min \n",
    "                c2 = np.mean(t2) # compute c2_hat for the second inner min\n",
    "                loss[j][s] = np.sum( np.square(t1-c1)) + np.sum( np.square(t2-c2)) # compute the loss\n",
    "            else:\n",
    "                print(\"Invalid impurity type\")\n",
    "                return\n",
    "    min_loss = np.min(loss) # compute the minimum loss over all possible j and s\n",
    "    return min_loss, loss"
   ]
  },
  {
   "cell_type": "markdown",
   "id": "a42238b7",
   "metadata": {},
   "source": [
    "Now define the function that performs a single split:"
   ]
  },
  {
   "cell_type": "code",
   "execution_count": 8,
   "id": "f88361f3",
   "metadata": {},
   "outputs": [],
   "source": [
    "def split(x, target, num_class, type):\n",
    "    '''\n",
    "    This function takes in features x and corresponding categorical target t, and it returns the following:\n",
    "    1. the best split index j and s, where j is the split direction and s is the split coordicate\n",
    "    2. the indices of the points in R1\n",
    "    3. the indices of the points in R2\n",
    "    '''\n",
    "    min_loss, loss = impurity(x,target, num_class, type)    \n",
    "    min_index = np.argwhere(loss==min_loss)[0] # compute the indices of elements in x with min_loss and choose the first one\n",
    "    # compute the boolean arrays that indicate which class a data point belong to\n",
    "    r1_ind = (x <= x[min_index[1], min_index[0]])[:,min_index[0]] # compute the indices for the first region R1\n",
    "    r2_ind = np.logical_not(r1_ind) # compute the indices for the second region R2   \n",
    "    return min_index[0], min_index[1], r1_ind, r2_ind"
   ]
  },
  {
   "cell_type": "markdown",
   "id": "bc2c1c75",
   "metadata": {},
   "source": [
    "Finally, define a function that recursively build the classification tree until no further improvement can be made. It is implemented for two dimensional features for visualization purpose."
   ]
  },
  {
   "cell_type": "code",
   "execution_count": 13,
   "id": "f850fe19",
   "metadata": {},
   "outputs": [],
   "source": [
    "def classification_tree(data, xx0, xx1, num_class, current_mesh, predictions, type):\n",
    "    ''' \n",
    "    This function takes in categorical data and do binary split using the \"split\" function until each region\n",
    "    contains only one class of points, and it colors each region in different colors. Here, \n",
    "    1. xx0 and xx1 are the overall grid\n",
    "    2. current_mesh logical grids indicating the region where the current iteration calculates its value\n",
    "    3. predictions stores the function values (i.e. class labels) associated with XX0 and XX1\n",
    "    '''\n",
    "    feature_dimension = 2\n",
    "    target = data[:, feature_dimension] # all targets\n",
    "    if all(target==target[0]): # if all targets are equal\n",
    "        predictions[current_mesh]=target[0] # set the prediction value\n",
    "    else:\n",
    "        split_dir, split_ind, r1_ind, r2_ind = split(data[:,0:2], data[:,2], num_class, type)\n",
    "        data1 = data[r1_ind, :] # data_1 = points in R1\n",
    "        data2 = data[r2_ind, :] # data_2 = points in R2\n",
    "        # see if each region needs furthur classification\n",
    "        target1 = data1[:,2]\n",
    "        target2 = data2[:,2]\n",
    "        isdone_1 = any([all(target1==num_class) for k in range(num_class)]) # true iff R1 is homogeneous\n",
    "        isdone_2 = any([all(target2==num_class) for k in range(num_class)]) # true iff R2 is homogeneous\n",
    "\n",
    "        # To color the decision regions, we assign the labels of the class (i.e., 1-4) as function values to the points in\n",
    "        # meshgrid. The fuction value on a region is determined by the label of the most common entry in that region.\n",
    "        value1 = Counter(data1[:, 2]).most_common(1)[0][0] # get the most common label in R1\n",
    "        value2 = Counter(data2[:, 2]).most_common(1)[0][0] # get the most common label in R2\n",
    "\n",
    "        if split_dir == 0: # which means we are drawing a vertical line. R1 is to the left and R2 is to the right\n",
    "            coordinate = data[split_ind][split_dir]\n",
    "            R1 = np.logical_and(xx0 <= coordinate, current_mesh) # compute the current R1\n",
    "            R2 = np.logical_and(xx0 >  coordinate, current_mesh) # compute the current R2\n",
    "            predictions[R1] = value1 # set the values of predictions on R1\n",
    "            predictions[R2] = value2 # set the values of predictions on R2\n",
    "\n",
    "            # recursively classify points in R1/R2 and assign function values\n",
    "            if not isdone_1:\n",
    "                classification_tree(data1, xx0, xx1, num_class, R1, predictions, type)        \n",
    "            if not isdone_2:\n",
    "                classification_tree(data2, xx0, xx1, num_class, R2, predictions, type)\n",
    "\n",
    "        else: # which means we are drawing a horizontal line\n",
    "            coordinate = data[split_ind][split_dir]\n",
    "            R1 = np.logical_and(xx1 <= coordinate, current_mesh) # compute the current R1\n",
    "            R2 = np.logical_and(xx1 >  coordinate, current_mesh) # compute the current R2\n",
    "            predictions[R1] = value1 # set the values of predictions on R1\n",
    "            predictions[R2] = value2 # set the values of predictions on R2\n",
    "\n",
    "            # recursively classify points in R1/R2 and assign function values\n",
    "            if not isdone_1:\n",
    "                classification_tree(data1, xx0, xx1, num_class, R1, predictions, type)\n",
    "            if not isdone_2:\n",
    "                classification_tree(data2, xx0, xx1, num_class, R2, predictions, type)                "
   ]
  },
  {
   "cell_type": "markdown",
   "id": "09d57faf",
   "metadata": {},
   "source": [
    "Now we plot the result."
   ]
  },
  {
   "cell_type": "code",
   "execution_count": 14,
   "id": "1b5f24f7",
   "metadata": {},
   "outputs": [
    {
     "data": {
      "text/plain": [
       "<matplotlib.collections.PathCollection at 0x218c28435e0>"
      ]
     },
     "execution_count": 14,
     "metadata": {},
     "output_type": "execute_result"
    },
    {
     "data": {
      "image/png": "[encoded data removed]",
      "text/plain": [
       "<Figure size 432x288 with 1 Axes>"
      ]
     },
     "metadata": {
      "needs_background": "light"
     },
     "output_type": "display_data"
    }
   ],
   "source": [
    "# Find the classification tree and plot the result\n",
    "# set up the grid for plotting\n",
    "x0 = np.linspace(0,1,101)\n",
    "x1 = np.linspace(0,1,101)\n",
    "xx0, xx1 = np.meshgrid(x0,x1)\n",
    "predictions = np.zeros((len(x0),len(x1))) # where we store the function values\n",
    "current_mesh = np.ones((len(x0),len(x1))) # we start with the whole region\n",
    "num_class = 4\n",
    "\n",
    "# find the classification tree\n",
    "classification_tree(data, xx0, xx1, 4, current_mesh, predictions, 'square') \n",
    "# plt.contourf(xx0,xx1,current_mesh)\n",
    "\n",
    "# now plotting\n",
    "plt.contourf(xx0, xx1, predictions.reshape(np.shape(xx0)), alpha = 0.7, cmap = 'Dark2')\n",
    "plt.scatter(class1[:,0], class1[:,1])\n",
    "plt.scatter(class2[:,0], class2[:,1])\n",
    "plt.scatter(class3[:,0], class3[:,1])\n",
    "plt.scatter(class4[:,0], class4[:,1])"
   ]
  }
 ],
 "metadata": {
  "kernelspec": {
   "display_name": "Python 3",
   "language": "python",
   "name": "python3"
  },
  "language_info": {
   "codemirror_mode": {
    "name": "ipython",
    "version": 3
   },
   "file_extension": ".py",
   "mimetype": "text/x-python",
   "name": "python",
   "nbconvert_exporter": "python",
   "pygments_lexer": "ipython3",
   "version": "3.8.8"
  }
 },
 "nbformat": 4,
 "nbformat_minor": 5
}
