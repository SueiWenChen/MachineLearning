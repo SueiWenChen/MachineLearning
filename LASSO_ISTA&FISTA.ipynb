{
 "cells": [
  {
   "cell_type": "markdown",
   "id": "9306b661",
   "metadata": {},
   "source": [
    "# Least Absolute Shrinkage and Selection Operator\n",
    "\n",
    "Learning a model through the OLS loss can be done very efficiently through either gradient descent or even through the Normal equations. The same is true for ridge regression. For the Lasso formulation however, the non differentiability of the absolute value at $0$ makes the learning more tricky.\n",
    "\n",
    "One approach, known as ISTA (see Amir Beck and Marc Teboulle, A Fast Iterative Shrinkage-Thresholding Algorithm for Linear Inverse Problems) consists in combining traditional gradient descent steps with a projection onto the $\\ell_1$ norm ball. Concretely, for the LASSO objective\n",
    "\n",
    "$$\\begin{align}\n",
    "\\ell(\\boldsymbol \\beta) = \\|\\boldsymbol X\\boldsymbol \\beta - \\boldsymbol t\\|^2_2 + \\lambda \\|\\boldsymbol \\beta\\|_1\n",
    "\\end{align}$$\n",
    "\n",
    "where $\\boldsymbol \\beta = (\\beta_1, \\beta_2,\\ldots, \\beta_D)$ (note that we don't include the bias) and the feature vectors $\\left\\{\\boldsymbol  x_i\\right\\}_{i=1}^N$ (corresponding to the rows of the matrix $\\boldsymbol X$) as well as the targets $t_i$ are assumed to be centered, i.e.$$\\begin{align}\n",
    "\\boldsymbol x_{ij} \\leftarrow \\boldsymbol x_{ij}-  \\frac{1}{N}\\sum_{i=1}^{N} x_{ij}\\\\\n",
    "t_i \\leftarrow t_i - \\frac{1}{N}\\sum_{i=1}^N t_i\n",
    "\\end{align}$$\n",
    "\n",
    "(Note that this is equivalent to taking $\\beta_0 = \\frac{1}{N}\\sum_{i=1}^N t_i$). The ISTA update takes the form\n",
    "\n",
    "$$\\begin{align}\n",
    "\\boldsymbol \\beta^{k+1} \\leftarrow \\mathcal{T}_{\\lambda \\eta} (\\boldsymbol \\beta^{k} - 2\\eta \\mathbf{X}^T(\\mathbf{X}\\mathbf{\\beta^{k}} - \\mathbf{t}))\n",
    "\\end{align}$$\n",
    "\n",
    "where $\\mathcal{T}_{\\lambda \\eta}(\\mathbf{x})_i$ is the thresholding operator defined component-wise as\n",
    "\n",
    "$$\\begin{align}\n",
    "\\mathcal{T}_{\\lambda \\eta}(\\boldsymbol x)_i = (|\\boldsymbol x_i| - \\lambda \\eta)_+ \\text{sign}(\\boldsymbol x_i)\n",
    "\\end{align}$$\n",
    "\n",
    "In the equations above, $\\eta$ is an appropriate step size and $(x)_+ = \\max(x, 0)$"
   ]
  },
  {
   "cell_type": "markdown",
   "id": "0e654a6a",
   "metadata": {},
   "source": [
    "### ISTA\n",
    "The following function 'ISTA' returns a final estimate for the regression vector $\\mathbf{\\beta}$ given a feature matrix $\\mathbf{X}$, a target vector $\\mathbf{t}$ (the function includes the centering steps for $\\mathbf{x}_i$ and $t_i$) regularization weight $\\lambda$, and the choice for the learning rate $\\eta$."
   ]
  },
  {
   "cell_type": "code",
   "execution_count": 14,
   "id": "752a12ef",
   "metadata": {},
   "outputs": [],
   "source": [
    "def ISTA(beta_init, X, t, lbda, eta):\n",
    "    '''The function takes as input an initial guess for beta, a set of feature vectors stored in X and their corresponding \n",
    "    targets stored in t, a regularization weight lbda, step size parameter eta and must return the regression weights following from the minimization of \n",
    "    the LASSO objective'''\n",
    "    \n",
    "    # initialize variables\n",
    "    N = np.shape(X)[0] # size of dataset\n",
    "    beta_LASSO = beta_init.reshape(-1,1)\n",
    "    MaxIter = 1000\n",
    "    loss_ista = np.zeros(MaxIter)\n",
    "\n",
    "    # centralize features X and target values t\n",
    "    X = X - np.ones((N,N))@X/N\n",
    "    t = t - np.ones((N,N))@t/N\n",
    "    t = t.reshape(-1,1)\n",
    "    \n",
    "    # run the update for beta_LASSO\n",
    "    for i in range(MaxIter):\n",
    "        arg = beta_LASSO - 2*eta* X.transpose() @ (X @ beta_LASSO - t)\n",
    "        beta_LASSO = np.multiply( np.maximum(np.absolute(arg)-lbda*eta , 0) , np.sign(arg))\n",
    "        loss_ista[i] = np.sum((X @ beta_LASSO - t) ** 2) + lbda*np.sum(beta_LASSO) # record the loss\n",
    "        \n",
    "    return beta_LASSO, loss_ista"
   ]
  },
  {
   "cell_type": "markdown",
   "id": "55eb3d88",
   "metadata": {},
   "source": [
    "Now we apply to the data from a linear model with Gaussian noise (in red) the algorithm which uses polynomial features up to degree 9. The prediction results are displayed on top of the true model (in blue)."
   ]
  },
  {
   "cell_type": "code",
   "execution_count": 26,
   "id": "f5c442d6",
   "metadata": {
    "scrolled": true
   },
   "outputs": [
    {
     "name": "stdout",
     "output_type": "stream",
     "text": [
      "d=2, beta = [0.74480172 0.60309765]\n",
      "d=3, beta = [0.57622487 0.44667135 0.31518188]\n",
      "d=4, beta = [ 0.61316134  0.48878385  0.26809363 -0.04741692]\n",
      "d=5, beta = [ 0.7453979   0.38760406  0.2161204  -0.04611035  0.01865803]\n",
      "d=6, beta = [ 0.68255718  0.38715966  0.29662896  0.14412914 -0.1544024  -0.06180628]\n",
      "d=7, beta = [ 0.70057418  0.45843934  0.21210507  0.05532449  0.04386789 -0.09825964\n",
      " -0.09231602]\n",
      "d=8, beta = [ 0.68387418  0.52486929  0.11559724  0.10295417  0.09697928  0.01205555\n",
      " -0.21004173 -0.06706743]\n",
      "d=9, beta = [ 0.74868327  0.44773429  0.19545041  0.04851404  0.00300115 -0.06010142\n",
      " -0.08212479  0.03797716 -0.06531204]\n"
     ]
    },
    {
     "data": {
      "image/png": "[encoded data removed]",
      "text/plain": [
       "<Figure size 432x288 with 1 Axes>"
      ]
     },
     "metadata": {
      "needs_background": "light"
     },
     "output_type": "display_data"
    }
   ],
   "source": [
    "import numpy as np\n",
    "import matplotlib.pyplot as plt\n",
    "from sklearn.preprocessing import PolynomialFeatures\n",
    "\n",
    "# set up the true model\n",
    "x = np.linspace(0,1,20)\n",
    "x_true = np.linspace(0,1,100)\n",
    "t_true = 0.1 + 1.3*x_true\n",
    "# set up our data points, given by the true model with gaussian perturbation\n",
    "t_noisy = 0.1 + 1.3*x + np.random.normal(0,0.1,len(x))\n",
    "plt.scatter(x, t_noisy, c='r')\n",
    "plt.plot(x_true, t_true, c='b')\n",
    "\n",
    "# set up parameters for ISTA\n",
    "eta = 1e-3\n",
    "lbda = 0.05\n",
    "# try polynomials with different degree d \n",
    "degree = [2,3,4,5,6,7,8,9]\n",
    "\n",
    "for d in degree:\n",
    "    beta = np.random.normal(0,0.1,size=d).reshape(-1,1) # randomly initialize beta\n",
    "    poly = PolynomialFeatures(d) # initialize the polynomail model\n",
    "    X_poly = poly.fit_transform(x.reshape((-1,1)))[:,1:] # tranform x into polynomial features and discard the \"dummy\" feature x^0=1\n",
    "    # run the LASSO update w.r.t. beta for MaxIter number of times\n",
    "    beta, _ = ISTA(beta, X_poly, t_noisy, lbda, eta)\n",
    "    # to make predictions and display the result, we need to first centralize the input data\n",
    "    N = np.shape(X_poly)[0] # number of data points\n",
    "    X_polyMean = np.ones((N,N))@X_poly/N # this is what we subtracted from the features for centralization\n",
    "    t_noisyMean = np.ones((N,N))@t_noisy/N # this is what we subtracted from the targets for centralization\n",
    "    plt.plot(x , (X_poly-X_polyMean) @ beta + t_noisyMean, linewidth=0.5 )\n",
    "    print('d=%d, beta ='%d, beta.flatten())\n",
    "    \n",
    "plt.legend([\"d=%d\"%d for d in degree])\n",
    "plt.show()"
   ]
  },
  {
   "cell_type": "markdown",
   "id": "9103880b",
   "metadata": {},
   "source": [
    "### FISTA\n",
    "It is possible to improve the ISTA updates by combining them with Nesterov accelerated gradient descent. The resulting update, known as FISTA can read, for a constant step size, by letting $\\mathbf{y}^{(1)} = {\\boldsymbol \\beta}^{(0)}$, $\\eta^{(1)} = 1$ and then using\n",
    "\n",
    "$$\\begin{align}\n",
    "\\left\\{\n",
    "\\begin{array}{l}\n",
    "&\\boldsymbol{\\beta}^{(k)} = \\text{ISTA}(\\mathbf{y}^{(k)}) \\text{  (with $y^k$ playing the role of $\\beta^{k-1}$ as in ISTA, and a suitable constant learning rate)}\\\\\n",
    "&\\eta^{(k+1)} = \\frac{1+\\sqrt{1+4(\\eta^{(k)})^2}}{2}\\\\\n",
    "&\\mathbf{y}^{(k+1)} = \\mathbf{\\boldsymbol\\beta}^{(k)} + \\left(\\frac{\\eta^{(k)} - 1}{\\eta^{(k+1)}}\\right)\\left({\\boldsymbol\\beta}^{(k)} - {\\boldsymbol\\beta}^{(k-1)}\\right)\\end{array}\\right.\n",
    "\\end{align}$$\n",
    "\n",
    "Here $\\text{ISTA}$ denotes a single ISTA update."
   ]
  },
  {
   "cell_type": "code",
   "execution_count": 27,
   "id": "eb06bd04",
   "metadata": {},
   "outputs": [],
   "source": [
    "def FISTA(X, t, eta, beta0, lbda):\n",
    "    \n",
    "    '''function should return the solution to the minimization of the LASSO objective ||X*beta - t||_2^2 + lambda*||beta||_1\n",
    "    by means of FISTA updates'''\n",
    "  \n",
    "    # set up variables for iterations\n",
    "    MaxIter = 1000\n",
    "    loss_fista = np.zeros(MaxIter)\n",
    "    beta = beta0\n",
    "    beta_prev = beta0\n",
    "    eta_now = 1\n",
    "    eta_prev = eta_now\n",
    "    y = beta0 # y1=beta0\n",
    "    N = np.shape(X)[0] # size of dataset\n",
    "    loss_ista = np.zeros((MaxIter, 1))\n",
    "\n",
    "    # normalize features X and target values t\n",
    "    X = X - np.ones((N,N))@X/N\n",
    "    t = t - np.ones((N,N))@t/N \n",
    "    t = t.reshape(-1,1)\n",
    "    # fista iterations\n",
    "\n",
    "    for k in range(1, MaxIter+1): # k starts from 1    \n",
    "        # the first line, updating beta using a single ISTA update\n",
    "        # y takes the place of beta while eta is held fixed as eta1\n",
    "        # use the learning rate eta\n",
    "        arg = y - 2*eta* X.transpose() @ (X @ y - t)\n",
    "        beta = np.multiply( np.maximum(np.absolute(arg)-lbda*eta ,0) , np.sign(arg))\n",
    "       \n",
    "        # the second line, updating eta\n",
    "        eta_now = (1 + np.sqrt(1+4*eta_now**2)) / 2\n",
    "                \n",
    "        # the third line, updating y\n",
    "        y = beta + (eta_prev-1)/eta_now * (beta-beta_prev)\n",
    "        # update for beta_prev and eta_prev\n",
    "        beta_prev = beta\n",
    "        eta_prev = eta_now\n",
    "      \n",
    "        # record the loss\n",
    "        loss_fista[k-1] = np.sum((X @ beta - t) ** 2) + lbda*np.sum(beta)\n",
    "    return beta , loss_fista # beta is the final beta_LASSO"
   ]
  },
  {
   "cell_type": "markdown",
   "id": "b5fdc9ca",
   "metadata": {},
   "source": [
    "Now apply the algorithm to the same true linear model as above."
   ]
  },
  {
   "cell_type": "code",
   "execution_count": 28,
   "id": "48471148",
   "metadata": {},
   "outputs": [
    {
     "name": "stdout",
     "output_type": "stream",
     "text": [
      "d=2, beta = [0.96103102 0.26746676]\n",
      "d=3, beta = [1.06035794 0.         0.18371104]\n",
      "d=4, beta = [1.09276876 0.         0.         0.163435  ]\n",
      "d=5, beta = [ 1.10795165  0.         -0.          0.          0.15903401]\n",
      "d=6, beta = [ 1.11667984  0.         -0.         -0.          0.          0.16024837]\n",
      "d=7, beta = [ 1.13846625  0.         -0.         -0.05222446 -0.          0.\n",
      "  0.20593275]\n",
      "d=8, beta = [ 1.16081203  0.         -0.         -0.09464505 -0.         -0.\n",
      "  0.          0.24140049]\n",
      "d=9, beta = [ 1.16714276  0.         -0.         -0.         -0.13471345 -0.\n",
      " -0.          0.          0.28642476]\n"
     ]
    },
    {
     "data": {
      "image/png": "[encoded data removed]",
      "text/plain": [
       "<Figure size 432x288 with 1 Axes>"
      ]
     },
     "metadata": {
      "needs_background": "light"
     },
     "output_type": "display_data"
    }
   ],
   "source": [
    "# set up the true model\n",
    "x = np.linspace(0,1,20)\n",
    "x_true = np.linspace(0,1,101)\n",
    "t_true = 0.1 + 1.3*x_true\n",
    "# set up our data points, given by the true model with gaussian perturbation\n",
    "t_noisy = 0.1 + 1.3*x + np.random.normal(0,0.1,len(x))\n",
    "plt.scatter(x, t_noisy, c='r')\n",
    "plt.plot(x_true, t_true)\n",
    "\n",
    "# set up the regularization parameter lambda\n",
    "lbda = 0.01\n",
    "# try polynomials with different degree d \n",
    "degree = [2,3,4,5,6,7,8,9]\n",
    "for d in degree:\n",
    "    beta0 = np.random.normal(0,0.1,size=d).reshape(-1,1) # randomly initialize beta\n",
    "    poly = PolynomialFeatures(d) # initialize the polynomail model\n",
    "    X_poly = poly.fit_transform(x.reshape((-1,1)))[:,1:] # tranform x into polynomial features and discard the \"dummy\" feature x^0=1\n",
    "    # run the LASSO update using FISTA, eta = 0.05\n",
    "    beta_LASSO, loss_fista = FISTA(X_poly, t_noisy, 0.05, beta0, lbda)\n",
    "    # to make predictions and display the result, we need to first centralize the input data\n",
    "    N = np.shape(X_poly)[0] # number of data points\n",
    "    X_polyMean = np.ones((N,N))@X_poly/N # this is what we subtracted from the features for centralization\n",
    "    t_noisyMean = np.ones((N,N))@t_noisy/N # this is what we subtracted from the targets for centralization\n",
    "    plt.plot(x , (X_poly-X_polyMean) @ beta_LASSO + t_noisyMean, linewidth=0.5 )\n",
    "    print('d=%d, beta ='%d, beta_LASSO.flatten())\n",
    "    \n",
    "plt.legend([\"d=%d\"%d for d in degree])\n",
    "plt.show()"
   ]
  },
  {
   "cell_type": "markdown",
   "id": "589fa72a",
   "metadata": {},
   "source": [
    "We compare the performance of ISTA and FISTA updates by plotting the evolution of their loss $\\ell(\\mathbf{\\beta})$ as a function of the iterations for both approaches. Indeed we see that FISTA updates decreases the loss faster."
   ]
  },
  {
   "cell_type": "code",
   "execution_count": 31,
   "id": "c97ee52b",
   "metadata": {
    "scrolled": true
   },
   "outputs": [
    {
     "data": {
      "image/png": "[encoded data removed]",
      "text/plain": [
       "<Figure size 432x288 with 1 Axes>"
      ]
     },
     "metadata": {
      "needs_background": "light"
     },
     "output_type": "display_data"
    }
   ],
   "source": [
    "import matplotlib.pyplot as plt\n",
    "MaxIter = 1000\n",
    "ISTA_loss = np.zeros((MaxIter, 1))\n",
    "FISTA_loss = np.zeros((MaxIter, 1))\n",
    "\n",
    "# consider d=9\n",
    "d=9\n",
    "eta = 0.05\n",
    "beta = np.random.normal(0,0.1,size=d).reshape(-1,1) # randomly initialize beta\n",
    "poly = PolynomialFeatures(d) # initialize the polynomail model\n",
    "X_poly = poly.fit_transform(x.reshape((-1,1)))[:,1:] # tranform x into polynomial features and discard the \"dummy\" feature x^0=1\n",
    "_, ISTA_loss = ISTA(beta, X_poly, t_noisy, lbda, eta)\n",
    "_, FISTA_loss = FISTA(X_poly, t_noisy, eta, beta0, lbda)\n",
    "plt.plot(ISTA_loss, label='ISTA loss')\n",
    "plt.plot(FISTA_loss, label='FISTA loss')\n",
    "plt.legend()\n",
    "plt.show()"
   ]
  }
 ],
 "metadata": {
  "kernelspec": {
   "display_name": "Python 3",
   "language": "python",
   "name": "python3"
  },
  "language_info": {
   "codemirror_mode": {
    "name": "ipython",
    "version": 3
   },
   "file_extension": ".py",
   "mimetype": "text/x-python",
   "name": "python",
   "nbconvert_exporter": "python",
   "pygments_lexer": "ipython3",
   "version": "3.8.8"
  }
 },
 "nbformat": 4,
 "nbformat_minor": 5
}
